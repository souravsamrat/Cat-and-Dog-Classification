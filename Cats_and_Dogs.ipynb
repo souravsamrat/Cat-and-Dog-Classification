{
 "cells": [
  {
   "cell_type": "code",
   "execution_count": 1,
   "metadata": {},
   "outputs": [],
   "source": [
    "import keras"
   ]
  },
  {
   "cell_type": "code",
   "execution_count": 2,
   "metadata": {},
   "outputs": [],
   "source": [
    "import os, shutil"
   ]
  },
  {
   "cell_type": "markdown",
   "metadata": {},
   "source": [
    "Now i will point to the original directory where my data is stored."
   ]
  },
  {
   "cell_type": "code",
   "execution_count": 3,
   "metadata": {},
   "outputs": [],
   "source": [
    "original_dataset_dir ='train'"
   ]
  },
  {
   "cell_type": "code",
   "execution_count": 4,
   "metadata": {},
   "outputs": [],
   "source": [
    "base_dir = '/cats_and_dogs'\n",
    "os.mkdir(base_dir)"
   ]
  },
  {
   "cell_type": "markdown",
   "metadata": {},
   "source": [
    "Our next step will be to make three directories each one for train data, validation data and test data respectively."
   ]
  },
  {
   "cell_type": "code",
   "execution_count": 5,
   "metadata": {},
   "outputs": [],
   "source": [
    "train_dir = os.path.join(base_dir, 'train')\n",
    "os.mkdir(train_dir)"
   ]
  },
  {
   "cell_type": "code",
   "execution_count": 6,
   "metadata": {},
   "outputs": [],
   "source": [
    "validation_dir = os.path.join(base_dir, 'validation')\n",
    "os.mkdir(validation_dir)"
   ]
  },
  {
   "cell_type": "code",
   "execution_count": 7,
   "metadata": {},
   "outputs": [],
   "source": [
    "test_dir = os.path.join(base_dir, 'test')\n",
    "os.mkdir(test_dir)"
   ]
  },
  {
   "cell_type": "markdown",
   "metadata": {},
   "source": [
    "In this step i will make two directories in each od train, validation and test directory.\n",
    "\n",
    "• First for cat images.\n",
    " • and Second for Dog images."
   ]
  },
  {
   "cell_type": "code",
   "execution_count": 8,
   "metadata": {},
   "outputs": [],
   "source": [
    "train_cats_dir = os.path.join(train_dir, 'cats')\n",
    "os.mkdir(train_cats_dir) #training directory for cat\n",
    "\n",
    "train_dogs_dir = os.path.join(train_dir, 'dogs')\n",
    "os.mkdir(train_dogs_dir) #training directory for dog"
   ]
  },
  {
   "cell_type": "code",
   "execution_count": 9,
   "metadata": {},
   "outputs": [],
   "source": [
    "validation_cats_dir = os.path.join(validation_dir, 'cats')\n",
    "os.mkdir(validation_cats_dir) #validation directory for cat\n",
    "\n",
    "validation_dogs_dir = os.path.join(validation_dir, 'dogs')\n",
    "os.mkdir(validation_dogs_dir) #validation directory for dog"
   ]
  },
  {
   "cell_type": "code",
   "execution_count": 10,
   "metadata": {},
   "outputs": [],
   "source": [
    "test_cats_dir = os.path.join(test_dir, 'cats')\n",
    "os.mkdir(test_cats_dir) #test directory for cat\n",
    "\n",
    "test_dogs_dir = os.path.join(test_dir, 'dogs')\n",
    "os.mkdir(test_dogs_dir) #test directory for dog"
   ]
  },
  {
   "cell_type": "markdown",
   "metadata": {},
   "source": [
    "Now our all directories and subdirectories are ready , our next step will be to copy images from original_dataset_directory to\n",
    "subdirectories under base directory."
   ]
  },
  {
   "cell_type": "code",
   "execution_count": 11,
   "metadata": {},
   "outputs": [],
   "source": [
    "fnames = ['cat.{}.jpg'.format(i) for i in range(10000)]\n",
    "for fname in fnames:\n",
    "    src = os.path.join(original_dataset_dir, fname)\n",
    "    dst = os.path.join(train_cats_dir, fname)\n",
    "    shutil.copyfile(src, dst)"
   ]
  },
  {
   "cell_type": "code",
   "execution_count": 12,
   "metadata": {},
   "outputs": [],
   "source": [
    "fnames = ['cat.{}.jpg'.format(i) for i in range(10000, 12000)]\n",
    "for fname in fnames:\n",
    "    src = os.path.join(original_dataset_dir, fname)\n",
    "    dst = os.path.join(validation_cats_dir, fname)\n",
    "    shutil.copyfile(src, dst)"
   ]
  },
  {
   "cell_type": "code",
   "execution_count": 13,
   "metadata": {},
   "outputs": [],
   "source": [
    "fnames = ['cat.{}.jpg'.format(i) for i in range(12000, 12499)]\n",
    "for fname in fnames:\n",
    "    src = os.path.join(original_dataset_dir, fname)\n",
    "    dst = os.path.join(test_cats_dir, fname)\n",
    "    shutil.copyfile(src, dst)"
   ]
  },
  {
   "cell_type": "code",
   "execution_count": 14,
   "metadata": {},
   "outputs": [],
   "source": [
    "fnames = ['dog.{}.jpg'.format(i) for i in range(10000)]\n",
    "for fname in fnames:\n",
    "    src = os.path.join(original_dataset_dir, fname)\n",
    "    dst = os.path.join(train_dogs_dir, fname)\n",
    "    shutil.copyfile(src, dst)"
   ]
  },
  {
   "cell_type": "code",
   "execution_count": 15,
   "metadata": {},
   "outputs": [],
   "source": [
    "fnames = ['dog.{}.jpg'.format(i) for i in range(10000, 12000)]\n",
    "for fname in fnames:\n",
    "    src = os.path.join(original_dataset_dir, fname)\n",
    "    dst = os.path.join(validation_dogs_dir, fname)\n",
    "    shutil.copyfile(src, dst)"
   ]
  },
  {
   "cell_type": "code",
   "execution_count": 16,
   "metadata": {},
   "outputs": [],
   "source": [
    "fnames = ['dog.{}.jpg'.format(i) for i in range(12000, 12499)]\n",
    "for fname in fnames:\n",
    "    src = os.path.join(original_dataset_dir, fname)\n",
    "    dst = os.path.join(test_dogs_dir, fname)\n",
    "    shutil.copyfile(src, dst)"
   ]
  },
  {
   "cell_type": "markdown",
   "metadata": {},
   "source": [
    "As you can see that our data is divided into three categores named as train, validation and test data.\n",
    "Our next step will be to build a model."
   ]
  },
  {
   "cell_type": "code",
   "execution_count": 17,
   "metadata": {},
   "outputs": [],
   "source": [
    "from keras import layers\n",
    "from keras import models\n",
    "model = models.Sequential()\n",
    "model.add(layers.Conv2D(32, (3, 3), activation='relu',\n",
    "input_shape=(150, 150, 3))) #here i'm resizing all image to the same dimension.\n",
    "model.add(layers.MaxPooling2D((2, 2)))\n",
    "model.add(layers.Conv2D(64, (3, 3), activation='relu'))\n",
    "model.add(layers.MaxPooling2D((2, 2)))\n",
    "model.add(layers.Conv2D(128, (3, 3), activation='relu'))\n",
    "model.add(layers.MaxPooling2D((2, 2)))\n",
    "model.add(layers.Conv2D(128, (3, 3), activation='relu'))\n",
    "model.add(layers.MaxPooling2D((2, 2)))\n",
    "model.add(layers.Flatten())\n",
    "model.add(layers.Dense(512, activation='relu'))\n",
    "model.add(layers.Dense(1, activation='sigmoid'))"
   ]
  },
  {
   "cell_type": "markdown",
   "metadata": {},
   "source": [
    "Our model is ready , so let's check parameters and summary."
   ]
  },
  {
   "cell_type": "code",
   "execution_count": 18,
   "metadata": {},
   "outputs": [
    {
     "name": "stdout",
     "output_type": "stream",
     "text": [
      "Model: \"sequential\"\n",
      "_________________________________________________________________\n",
      "Layer (type)                 Output Shape              Param #   \n",
      "=================================================================\n",
      "conv2d (Conv2D)              (None, 148, 148, 32)      896       \n",
      "_________________________________________________________________\n",
      "max_pooling2d (MaxPooling2D) (None, 74, 74, 32)        0         \n",
      "_________________________________________________________________\n",
      "conv2d_1 (Conv2D)            (None, 72, 72, 64)        18496     \n",
      "_________________________________________________________________\n",
      "max_pooling2d_1 (MaxPooling2 (None, 36, 36, 64)        0         \n",
      "_________________________________________________________________\n",
      "conv2d_2 (Conv2D)            (None, 34, 34, 128)       73856     \n",
      "_________________________________________________________________\n",
      "max_pooling2d_2 (MaxPooling2 (None, 17, 17, 128)       0         \n",
      "_________________________________________________________________\n",
      "conv2d_3 (Conv2D)            (None, 15, 15, 128)       147584    \n",
      "_________________________________________________________________\n",
      "max_pooling2d_3 (MaxPooling2 (None, 7, 7, 128)         0         \n",
      "_________________________________________________________________\n",
      "flatten (Flatten)            (None, 6272)              0         \n",
      "_________________________________________________________________\n",
      "dense (Dense)                (None, 512)               3211776   \n",
      "_________________________________________________________________\n",
      "dense_1 (Dense)              (None, 1)                 513       \n",
      "=================================================================\n",
      "Total params: 3,453,121\n",
      "Trainable params: 3,453,121\n",
      "Non-trainable params: 0\n",
      "_________________________________________________________________\n"
     ]
    }
   ],
   "source": [
    "model.summary()"
   ]
  },
  {
   "cell_type": "markdown",
   "metadata": {},
   "source": [
    "As you can see that there are 3453121 trainable parameters."
   ]
  },
  {
   "cell_type": "markdown",
   "metadata": {},
   "source": [
    "So let's train our model."
   ]
  },
  {
   "cell_type": "code",
   "execution_count": 19,
   "metadata": {},
   "outputs": [],
   "source": [
    "from keras import optimizers\n",
    "model.compile(loss='binary_crossentropy',\n",
    "optimizer=optimizers.RMSprop(lr=0.0003),\n",
    "metrics=['acc'])"
   ]
  },
  {
   "cell_type": "markdown",
   "metadata": {},
   "source": [
    "Before fitting our model to the CNN . I will convert our image to numpy array and make all elemets of array between 0 and 1\n",
    "by diving it by 255(maximum value)."
   ]
  },
  {
   "cell_type": "code",
   "execution_count": 22,
   "metadata": {},
   "outputs": [
    {
     "name": "stdout",
     "output_type": "stream",
     "text": [
      "Found 20000 images belonging to 2 classes.\n",
      "Found 4000 images belonging to 2 classes.\n"
     ]
    }
   ],
   "source": [
    "from keras.preprocessing.image import ImageDataGenerator\n",
    "train_datagen = ImageDataGenerator(rescale=1./255)\n",
    "test_datagen = ImageDataGenerator(rescale=1./255)\n",
    "train_generator = train_datagen.flow_from_directory(\n",
    "    train_dir,\n",
    "    target_size=(150, 150),\n",
    "    batch_size=20,\n",
    "    class_mode='binary')\n",
    "\n",
    "validation_generator = test_datagen.flow_from_directory(\n",
    "    validation_dir,\n",
    "    target_size=(150, 150),\n",
    "    batch_size=20,\n",
    "    class_mode='binary')"
   ]
  },
  {
   "cell_type": "markdown",
   "metadata": {},
   "source": [
    "Now in final step let's fit our model."
   ]
  },
  {
   "cell_type": "code",
   "execution_count": 23,
   "metadata": {},
   "outputs": [
    {
     "name": "stdout",
     "output_type": "stream",
     "text": [
      "WARNING:tensorflow:From <ipython-input-23-76dc69394845>:6: Model.fit_generator (from tensorflow.python.keras.engine.training) is deprecated and will be removed in a future version.\n",
      "Instructions for updating:\n",
      "Please use Model.fit, which supports generators.\n",
      "Epoch 1/30\n",
      "100/100 [==============================] - 124s 1s/step - loss: 0.6928 - acc: 0.5525 - val_loss: 0.6700 - val_acc: 0.5960\n",
      "Epoch 2/30\n",
      "100/100 [==============================] - 175s 2s/step - loss: 0.6519 - acc: 0.6145 - val_loss: 0.6357 - val_acc: 0.6290\n",
      "Epoch 3/30\n",
      "100/100 [==============================] - 153s 2s/step - loss: 0.6276 - acc: 0.6495 - val_loss: 0.6003 - val_acc: 0.6770\n",
      "Epoch 4/30\n",
      "100/100 [==============================] - 134s 1s/step - loss: 0.6137 - acc: 0.6615 - val_loss: 0.5815 - val_acc: 0.6910\n",
      "Epoch 5/30\n",
      "100/100 [==============================] - 125s 1s/step - loss: 0.5878 - acc: 0.6815 - val_loss: 0.6018 - val_acc: 0.6870\n",
      "Epoch 6/30\n",
      "100/100 [==============================] - 149s 1s/step - loss: 0.5613 - acc: 0.6990 - val_loss: 0.5434 - val_acc: 0.7250\n",
      "Epoch 7/30\n",
      "100/100 [==============================] - 133s 1s/step - loss: 0.5494 - acc: 0.7230 - val_loss: 0.5879 - val_acc: 0.6840\n",
      "Epoch 8/30\n",
      "100/100 [==============================] - 134s 1s/step - loss: 0.5094 - acc: 0.7435 - val_loss: 0.5218 - val_acc: 0.7360\n",
      "Epoch 9/30\n",
      "100/100 [==============================] - 138s 1s/step - loss: 0.5073 - acc: 0.7505 - val_loss: 0.4982 - val_acc: 0.7510\n",
      "Epoch 10/30\n",
      "100/100 [==============================] - 139s 1s/step - loss: 0.4806 - acc: 0.7775 - val_loss: 0.5032 - val_acc: 0.7680\n",
      "Epoch 11/30\n",
      "100/100 [==============================] - 136s 1s/step - loss: 0.4659 - acc: 0.7820 - val_loss: 0.4718 - val_acc: 0.7880\n",
      "Epoch 12/30\n",
      "100/100 [==============================] - 149s 1s/step - loss: 0.4657 - acc: 0.7815 - val_loss: 0.4672 - val_acc: 0.7760\n",
      "Epoch 13/30\n",
      "100/100 [==============================] - 157s 2s/step - loss: 0.4574 - acc: 0.7885 - val_loss: 0.4768 - val_acc: 0.7730\n",
      "Epoch 14/30\n",
      "100/100 [==============================] - 149s 1s/step - loss: 0.4531 - acc: 0.7945 - val_loss: 0.4745 - val_acc: 0.7880\n",
      "Epoch 15/30\n",
      "100/100 [==============================] - 131s 1s/step - loss: 0.4153 - acc: 0.8055 - val_loss: 0.4685 - val_acc: 0.7980\n",
      "Epoch 16/30\n",
      "100/100 [==============================] - 118s 1s/step - loss: 0.4281 - acc: 0.8085 - val_loss: 0.4660 - val_acc: 0.7850\n",
      "Epoch 17/30\n",
      "100/100 [==============================] - 130s 1s/step - loss: 0.4105 - acc: 0.8190 - val_loss: 0.4819 - val_acc: 0.7610\n",
      "Epoch 18/30\n",
      "100/100 [==============================] - 113s 1s/step - loss: 0.4076 - acc: 0.8120 - val_loss: 0.4437 - val_acc: 0.7880\n",
      "Epoch 19/30\n",
      "100/100 [==============================] - 116s 1s/step - loss: 0.4046 - acc: 0.8165 - val_loss: 0.4898 - val_acc: 0.7840\n",
      "Epoch 20/30\n",
      "100/100 [==============================] - 106s 1s/step - loss: 0.4003 - acc: 0.8240 - val_loss: 0.4392 - val_acc: 0.7970\n",
      "Epoch 21/30\n",
      "100/100 [==============================] - 107s 1s/step - loss: 0.3753 - acc: 0.8350 - val_loss: 0.4300 - val_acc: 0.8150\n",
      "Epoch 22/30\n",
      "100/100 [==============================] - 103s 1s/step - loss: 0.3903 - acc: 0.8270 - val_loss: 0.3971 - val_acc: 0.8070\n",
      "Epoch 23/30\n",
      "100/100 [==============================] - 102s 1s/step - loss: 0.3707 - acc: 0.8365 - val_loss: 0.4970 - val_acc: 0.7680\n",
      "Epoch 24/30\n",
      "100/100 [==============================] - 102s 1s/step - loss: 0.3757 - acc: 0.8370 - val_loss: 0.4301 - val_acc: 0.8060\n",
      "Epoch 25/30\n",
      "100/100 [==============================] - 105s 1s/step - loss: 0.3799 - acc: 0.8300 - val_loss: 0.4030 - val_acc: 0.8180\n",
      "Epoch 26/30\n",
      "100/100 [==============================] - 102s 1s/step - loss: 0.3622 - acc: 0.8320 - val_loss: 0.4476 - val_acc: 0.7970\n",
      "Epoch 27/30\n",
      "100/100 [==============================] - 104s 1s/step - loss: 0.3517 - acc: 0.8420 - val_loss: 0.3725 - val_acc: 0.8290\n",
      "Epoch 28/30\n",
      "100/100 [==============================] - 102s 1s/step - loss: 0.3679 - acc: 0.8355 - val_loss: 0.3654 - val_acc: 0.8400\n",
      "Epoch 29/30\n",
      "100/100 [==============================] - 103s 1s/step - loss: 0.3422 - acc: 0.8470 - val_loss: 0.3914 - val_acc: 0.8440\n",
      "Epoch 30/30\n",
      "100/100 [==============================] - 102s 1s/step - loss: 0.3434 - acc: 0.8515 - val_loss: 0.3797 - val_acc: 0.8340\n"
     ]
    }
   ],
   "source": [
    "history = model.fit_generator(\n",
    "    train_generator,\n",
    "    steps_per_epoch=100,\n",
    "    epochs=30,\n",
    "    validation_data=validation_generator,\n",
    "    validation_steps=50)"
   ]
  },
  {
   "cell_type": "markdown",
   "metadata": {},
   "source": [
    "It took lot of time on CPU  ..... now le't plot graphs."
   ]
  },
  {
   "cell_type": "code",
   "execution_count": 25,
   "metadata": {},
   "outputs": [
    {
     "data": {
      "image/png": "[encoded data removed]",
      "text/plain": [
       "<Figure size 432x288 with 1 Axes>"
      ]
     },
     "metadata": {
      "needs_background": "light"
     },
     "output_type": "display_data"
    },
    {
     "data": {
      "image/png": "[encoded data removed]",
      "text/plain": [
       "<Figure size 432x288 with 1 Axes>"
      ]
     },
     "metadata": {
      "needs_background": "light"
     },
     "output_type": "display_data"
    }
   ],
   "source": [
    "import matplotlib.pyplot as plt\n",
    "%matplotlib inline\n",
    "acc = history.history['acc']\n",
    "val_acc = history.history['val_acc']\n",
    "loss = history.history['loss']\n",
    "val_loss = history.history['val_loss']\n",
    "epochs = range(1, len(acc) + 1)\n",
    "plt.plot(epochs, acc, 'bo', label='Training acc')\n",
    "plt.plot(epochs, val_acc, 'b', label='Validation acc')\n",
    "plt.title('Training and validation accuracy')\n",
    "plt.legend()\n",
    "plt.figure()\n",
    "plt.plot(epochs, loss, 'bo', label='Training loss')\n",
    "plt.plot(epochs, val_loss, 'b', label='Validation loss')\n",
    "plt.title('Training and validation loss')\n",
    "plt.legend()\n",
    "plt.show()"
   ]
  },
  {
   "cell_type": "markdown",
   "metadata": {},
   "source": [
    "to improve our model ... i will try tranfer learning in my next notebook."
   ]
  },
  {
   "cell_type": "markdown",
   "metadata": {},
   "source": [
    "                                                     THANKYOU"
   ]
  },
  {
   "cell_type": "code",
   "execution_count": null,
   "metadata": {},
   "outputs": [],
   "source": []
  }
 ],
 "metadata": {
  "kernelspec": {
   "display_name": "Python 3",
   "language": "python",
   "name": "python3"
  },
  "language_info": {
   "codemirror_mode": {
    "name": "ipython",
    "version": 3
   },
   "file_extension": ".py",
   "mimetype": "text/x-python",
   "name": "python",
   "nbconvert_exporter": "python",
   "pygments_lexer": "ipython3",
   "version": "3.7.4"
  }
 },
 "nbformat": 4,
 "nbformat_minor": 2
}
